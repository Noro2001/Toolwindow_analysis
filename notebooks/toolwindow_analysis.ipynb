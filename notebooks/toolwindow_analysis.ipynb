{
 "cells": [
  {
   "cell_type": "markdown",
   "metadata": {},
   "source": [
    "# Tool Window Usage Analysis – Notebook (English)\\n",
    "Interactive version of the main script."
   ]
  },
  {
   "cell_type": "code",
   "execution_count": null,
   "metadata": {},
   "outputs": [],
   "source": [
    "import pandas as pd, numpy as np, matplotlib.pyplot as plt, seaborn as sns\\n",
    "from scipy import stats\\n",
    "from lifelines import KaplanMeierFitter\\n",
    "from lifelines.statistics import logrank_test\\n",
    "sns.set_style('whitegrid'); plt.rcParams['figure.figsize']=(11,5)\\n",
    "print('✅ Libraries ready')"
   ]
  },
  {
   "cell_type": "code",
   "execution_count": null,
   "metadata": {},
   "outputs": [],
   "source": [
    "import os, json\\n",
    "DATA = '../data/toolwindow_data.csv'  # change if needed\\n",
    "df = pd.read_csv(DATA)\\n",
    "df.columns = [c.lower().strip() for c in df.columns]\\n",
    "if 'event' in df.columns and 'event_id' not in df.columns:\\n",
    "    df = df.rename(columns={'event':'event_id'})\\n",
    "for col in ['event_id','open_type','user_id']:\\n",
    "    if col in df.columns:\\n",
    "        df[col] = df[col].astype(str).str.strip().str.lower()\\n",
    "df['event_id'] = df['event_id'].replace({'opened':'open','closed':'close'})\\n",
    "df['timestamp'] = df['timestamp'].astype('int64')\\n",
    "df.head()"
   ]
  },
  {
   "cell_type": "code",
   "execution_count": null,
   "metadata": {},
   "outputs": [],
   "source": [
    "def match(df, policy='close_previous'):\\n",
    "    episodes=[]\\n",
    "    df=df.sort_values(['user_id','timestamp']).reset_index(drop=True)\\n",
    "    end_by_user=df.groupby('user_id')['timestamp'].max()\\n",
    "    for uid, g in df.groupby('user_id'):\\n",
    "        g=g.reset_index(drop=True)\\n",
    "        pending=None\\n",
    "        for _,r in g.iterrows():\\n",
    "            if r['event_id']=='open':\\n",
    "                if pending is not None:\\n",
    "                    if policy=='close_previous':\\n",
    "                        dur=r['timestamp']-pending['open_ts']\\n",
    "                        if dur>=0:\\n",
    "                            episodes.append(dict(user_id=uid,open_timestamp=pending['open_ts'],close_timestamp=r['timestamp'],duration_ms=dur,open_type=pending['open_type'],censored=False))\\n",
    "                        pending=dict(open_ts=r['timestamp'],open_type=r.get('open_type'))\\n",
    "                    elif policy=='drop_previous':\\n",
    "                        pending=dict(open_ts=r['timestamp'],open_type=r.get('open_type'))\\n",
    "                    else: # keep_first\\n",
    "                        pass\\n",
    "                else:\\n",
    "                    pending=dict(open_ts=r['timestamp'],open_type=r.get('open_type'))\\n",
    "            elif r['event_id']=='close':\\n",
    "                if pending is not None:\\n",
    "                    dur=r['timestamp']-pending['open_ts']\\n",
    "                    if dur>=0:\\n",
    "                        episodes.append(dict(user_id=uid,open_timestamp=pending['open_ts'],close_timestamp=r['timestamp'],duration_ms=dur,open_type=pending['open_type'],censored=False))\\n",
    "                    pending=None\\n",
    "        if pending is not None:\\n",
    "            end=end_by_user.loc[uid]\\n",
    "            dur=end-pending['open_ts']\\n",
    "            if dur>=0:\\n",
    "                episodes.append(dict(user_id=uid,open_timestamp=pending['open_ts'],close_timestamp=None,duration_ms=dur,open_type=pending['open_type'],censored=True))\\n",
    "    epi=pd.DataFrame(episodes)\\n",
    "    if not epi.empty:\\n",
    "        epi['duration_seconds']=epi['duration_ms']/1000\\n",
    "    return epi\\n",
    "\\n",
    "episodes = match(df, 'close_previous')\\n",
    "episodes = episodes[episodes['open_type'].notna()]\\n",
    "episodes.head()"
   ]
  },
  {
   "cell_type": "code",
   "execution_count": null,
   "metadata": {},
   "outputs": [],
   "source": [
    "def iqr_clean(g, min_ms=100, k=3.0):\\n",
    "    g=g[g['duration_ms']>=min_ms]\\n",
    "    Q1=g['duration_seconds'].quantile(0.25); Q3=g['duration_seconds'].quantile(0.75)\\n",
    "    IQR=Q3-Q1; up=Q3+k*IQR\\n",
    "    return g[g['duration_seconds']<=up]\\n",
    "\\n",
    "clean = episodes.groupby('open_type', group_keys=False).apply(iqr_clean)\\n",
    "clean.shape"
   ]
  },
  {
   "cell_type": "code",
   "execution_count": null,
   "metadata": {},
   "outputs": [],
   "source": [
    "manual=clean.loc[clean['open_type']=='manual','duration_seconds']\\n",
    "auto=clean.loc[clean['open_type']=='auto','duration_seconds']\\n",
    "U,p=stats.mannwhitneyu(manual,auto,alternative='two-sided')\\n",
    "U,p"
   ]
  },
  {
   "cell_type": "code",
   "metadata": {
    "ExecuteTime": {
     "end_time": "2025-10-19T20:58:41.512464Z",
     "start_time": "2025-10-19T20:58:41.508748Z"
    }
   },
   "source": [
    "plt.figure();\\n",
    "for lab in ['manual','auto']:\\n",
    "    s=np.sort(clean.loc[clean['open_type']==lab,'duration_seconds'])\\n",
    "    if s.size:\\n",
    "        y=np.arange(1,s.size+1)/s.size\\n",
    "        plt.plot(s,y,label=lab)\\n",
    "plt.legend(); plt.xlabel('seconds'); plt.ylabel('ECDF'); plt.title('ECDF'); plt.show()\\n",
    "\\n",
    "km=KaplanMeierFitter(); plt.figure()\\n",
    "for lab in ['manual','auto']:\\n",
    "    g=clean[clean['open_type']==lab]\\n",
    "    if not g.empty:\\n",
    "        km.fit(g['duration_seconds'], event_observed=(~g['censored']).astype(int), label=lab)\\n",
    "        km.plot()\\n",
    "plt.title('KM curves')\\n",
    "plt.xlabel('seconds'); plt.ylabel('survival'); plt.show()"
   ],
   "outputs": [
    {
     "ename": "SyntaxError",
     "evalue": "unexpected character after line continuation character (538422881.py, line 1)",
     "output_type": "error",
     "traceback": [
      "  \u001B[36mCell\u001B[39m\u001B[36m \u001B[39m\u001B[32mIn[1]\u001B[39m\u001B[32m, line 1\u001B[39m\n\u001B[31m    \u001B[39m\u001B[31mplt.figure();\\nfor lab in ['manual','auto']:\\n    s=np.sort(clean.loc[clean['open_type']==lab,'duration_seconds'])\\n    if s.size:\\n        y=np.arange(1,s.size+1)/s.size\\n        plt.plot(s,y,label=lab)\\nplt.legend(); plt.xlabel('seconds'); plt.ylabel('ECDF'); plt.title('ECDF'); plt.show()\\n\\nkm=KaplanMeierFitter(); plt.figure()\\nfor lab in ['manual','auto']:\\n    g=clean[clean['open_type']==lab]\\n    if not g.empty:\\n        km.fit(g['duration_seconds'], event_observed=(~g['censored']).astype(int), label=lab)\\n        km.plot()\\nplt.title('KM curves')\\nplt.xlabel('seconds'); plt.ylabel('survival'); plt.show()\u001B[39m\n                  ^\n\u001B[31mSyntaxError\u001B[39m\u001B[31m:\u001B[39m unexpected character after line continuation character\n"
     ]
    }
   ],
   "execution_count": 1
  }
 ],
 "metadata": {
  "kernelspec": {
   "display_name": "Python 3",
   "language": "python",
   "name": "python3"
  },
  "language_info": {
   "name": "python",
   "version": ""
  }
 },
 "nbformat": 4,
 "nbformat_minor": 2
}
